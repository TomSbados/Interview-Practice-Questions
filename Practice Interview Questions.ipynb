{
 "cells": [
  {
   "cell_type": "markdown",
   "id": "8c97cb06-d39a-40fa-b2d1-7b4ba1fac424",
   "metadata": {
    "jp-MarkdownHeadingCollapsed": true
   },
   "source": [
    "## Test Case 1"
   ]
  },
  {
   "cell_type": "markdown",
   "id": "e40fd332-b817-464c-afd8-4f83e87c7ce3",
   "metadata": {},
   "source": [
    "Question 1: Predictive Model - Housing Price Prediction\n",
    "\n",
    "Problem Statement:\n",
    "\n",
    "You are given a dataset containing information about houses, including various features like square footage, number of bedrooms, location, and year built. Your task is to build a predictive model that estimates the sale price of a house based on these features.\n",
    "\n",
    "Input:\n",
    "\n",
    "1. features: A list of lists where each sublist contains the features of a house. The features are [square_footage, bedrooms, bathrooms, location, year_built].\n",
    "\n",
    "\n",
    "2. prices: A list of integers where each element represents the sale price of a house corresponding to the features in the features list.\n",
    "\n",
    "\n",
    "3. new_house: A list of integers representing the features of a new house for which you need to predict the sale price.\n",
    "\n",
    "Output:\n",
    "\n",
    "\t•\tA float representing the predicted sale price of the new house."
   ]
  },
  {
   "cell_type": "code",
   "execution_count": 804,
   "id": "d07982d2-b91e-4fb0-aed0-e4a84f470d4d",
   "metadata": {},
   "outputs": [],
   "source": [
    "features1 = [[2000, 3, 2, 'urban', 2010], [1500, 2, 1, 'suburban', 2005], [2500, 4, 3, 'urban', 2020]]\n",
    "prices1 = [400000, 250000, 500000]\n",
    "new_house1 = [1800, 3, 2, 'suburban', 2015]"
   ]
  },
  {
   "cell_type": "code",
   "execution_count": 806,
   "id": "6dec0e50-2d13-4b69-a72c-7d9e8d281846",
   "metadata": {},
   "outputs": [],
   "source": [
    "features2 = [[1000, 1, 1, 'rural', 1990], [1200, 2, 1, 'suburban', 2000], [1300, 2, 2, 'urban', 2010]]\n",
    "prices2 = [150000, 180000, 230000]\n",
    "new_house2 = [1100, 1, 1, 'urban', 2005]"
   ]
  },
  {
   "cell_type": "markdown",
   "id": "7fb1899b-ab36-4fe2-a4b7-a50d13fd5305",
   "metadata": {
    "jp-MarkdownHeadingCollapsed": true
   },
   "source": [
    "## Solution 1"
   ]
  },
  {
   "cell_type": "code",
   "execution_count": 285,
   "id": "1aa972a8-54c8-42fb-8c46-279c418babfe",
   "metadata": {},
   "outputs": [],
   "source": [
    "import pandas as pd\n",
    "import numpy as np\n",
    "from sklearn.linear_model import LinearRegression\n",
    "from sklearn.ensemble import RandomForestRegressor"
   ]
  },
  {
   "cell_type": "code",
   "execution_count": 287,
   "id": "0520d19c-6400-44b0-a606-6f10b31ed55b",
   "metadata": {},
   "outputs": [],
   "source": [
    "mappings = {'urban': 1, 'suburban': 0, 'rural' : -1}\n",
    "\n",
    "def engineering(features):\n",
    "    features = pd.DataFrame(features)\n",
    "    features[3] = features[3].map(mappings)\n",
    "    return features\n",
    "\n",
    "def newHouse(new_house):\n",
    "    new_house = pd.DataFrame(new_house).T\n",
    "    new_house[3] = new_house[3].map(mappings)\n",
    "    return new_house\n",
    "    "
   ]
  },
  {
   "cell_type": "code",
   "execution_count": 289,
   "id": "c10596be-bd34-4de1-a95d-a251cd2feb22",
   "metadata": {},
   "outputs": [],
   "source": [
    "features1 = engineering(features1)\n",
    "features2 = engineering(features2)\n",
    "\n",
    "model1 = RandomForestRegressor()\n",
    "model2 = LinearRegression()"
   ]
  },
  {
   "cell_type": "code",
   "execution_count": 291,
   "id": "7344c9de-33d3-473d-a77e-b0c3104b6d71",
   "metadata": {},
   "outputs": [
    {
     "data": {
      "text/html": [
       "<style>#sk-container-id-13 {\n",
       "  /* Definition of color scheme common for light and dark mode */\n",
       "  --sklearn-color-text: black;\n",
       "  --sklearn-color-line: gray;\n",
       "  /* Definition of color scheme for unfitted estimators */\n",
       "  --sklearn-color-unfitted-level-0: #fff5e6;\n",
       "  --sklearn-color-unfitted-level-1: #f6e4d2;\n",
       "  --sklearn-color-unfitted-level-2: #ffe0b3;\n",
       "  --sklearn-color-unfitted-level-3: chocolate;\n",
       "  /* Definition of color scheme for fitted estimators */\n",
       "  --sklearn-color-fitted-level-0: #f0f8ff;\n",
       "  --sklearn-color-fitted-level-1: #d4ebff;\n",
       "  --sklearn-color-fitted-level-2: #b3dbfd;\n",
       "  --sklearn-color-fitted-level-3: cornflowerblue;\n",
       "\n",
       "  /* Specific color for light theme */\n",
       "  --sklearn-color-text-on-default-background: var(--sg-text-color, var(--theme-code-foreground, var(--jp-content-font-color1, black)));\n",
       "  --sklearn-color-background: var(--sg-background-color, var(--theme-background, var(--jp-layout-color0, white)));\n",
       "  --sklearn-color-border-box: var(--sg-text-color, var(--theme-code-foreground, var(--jp-content-font-color1, black)));\n",
       "  --sklearn-color-icon: #696969;\n",
       "\n",
       "  @media (prefers-color-scheme: dark) {\n",
       "    /* Redefinition of color scheme for dark theme */\n",
       "    --sklearn-color-text-on-default-background: var(--sg-text-color, var(--theme-code-foreground, var(--jp-content-font-color1, white)));\n",
       "    --sklearn-color-background: var(--sg-background-color, var(--theme-background, var(--jp-layout-color0, #111)));\n",
       "    --sklearn-color-border-box: var(--sg-text-color, var(--theme-code-foreground, var(--jp-content-font-color1, white)));\n",
       "    --sklearn-color-icon: #878787;\n",
       "  }\n",
       "}\n",
       "\n",
       "#sk-container-id-13 {\n",
       "  color: var(--sklearn-color-text);\n",
       "}\n",
       "\n",
       "#sk-container-id-13 pre {\n",
       "  padding: 0;\n",
       "}\n",
       "\n",
       "#sk-container-id-13 input.sk-hidden--visually {\n",
       "  border: 0;\n",
       "  clip: rect(1px 1px 1px 1px);\n",
       "  clip: rect(1px, 1px, 1px, 1px);\n",
       "  height: 1px;\n",
       "  margin: -1px;\n",
       "  overflow: hidden;\n",
       "  padding: 0;\n",
       "  position: absolute;\n",
       "  width: 1px;\n",
       "}\n",
       "\n",
       "#sk-container-id-13 div.sk-dashed-wrapped {\n",
       "  border: 1px dashed var(--sklearn-color-line);\n",
       "  margin: 0 0.4em 0.5em 0.4em;\n",
       "  box-sizing: border-box;\n",
       "  padding-bottom: 0.4em;\n",
       "  background-color: var(--sklearn-color-background);\n",
       "}\n",
       "\n",
       "#sk-container-id-13 div.sk-container {\n",
       "  /* jupyter's `normalize.less` sets `[hidden] { display: none; }`\n",
       "     but bootstrap.min.css set `[hidden] { display: none !important; }`\n",
       "     so we also need the `!important` here to be able to override the\n",
       "     default hidden behavior on the sphinx rendered scikit-learn.org.\n",
       "     See: https://github.com/scikit-learn/scikit-learn/issues/21755 */\n",
       "  display: inline-block !important;\n",
       "  position: relative;\n",
       "}\n",
       "\n",
       "#sk-container-id-13 div.sk-text-repr-fallback {\n",
       "  display: none;\n",
       "}\n",
       "\n",
       "div.sk-parallel-item,\n",
       "div.sk-serial,\n",
       "div.sk-item {\n",
       "  /* draw centered vertical line to link estimators */\n",
       "  background-image: linear-gradient(var(--sklearn-color-text-on-default-background), var(--sklearn-color-text-on-default-background));\n",
       "  background-size: 2px 100%;\n",
       "  background-repeat: no-repeat;\n",
       "  background-position: center center;\n",
       "}\n",
       "\n",
       "/* Parallel-specific style estimator block */\n",
       "\n",
       "#sk-container-id-13 div.sk-parallel-item::after {\n",
       "  content: \"\";\n",
       "  width: 100%;\n",
       "  border-bottom: 2px solid var(--sklearn-color-text-on-default-background);\n",
       "  flex-grow: 1;\n",
       "}\n",
       "\n",
       "#sk-container-id-13 div.sk-parallel {\n",
       "  display: flex;\n",
       "  align-items: stretch;\n",
       "  justify-content: center;\n",
       "  background-color: var(--sklearn-color-background);\n",
       "  position: relative;\n",
       "}\n",
       "\n",
       "#sk-container-id-13 div.sk-parallel-item {\n",
       "  display: flex;\n",
       "  flex-direction: column;\n",
       "}\n",
       "\n",
       "#sk-container-id-13 div.sk-parallel-item:first-child::after {\n",
       "  align-self: flex-end;\n",
       "  width: 50%;\n",
       "}\n",
       "\n",
       "#sk-container-id-13 div.sk-parallel-item:last-child::after {\n",
       "  align-self: flex-start;\n",
       "  width: 50%;\n",
       "}\n",
       "\n",
       "#sk-container-id-13 div.sk-parallel-item:only-child::after {\n",
       "  width: 0;\n",
       "}\n",
       "\n",
       "/* Serial-specific style estimator block */\n",
       "\n",
       "#sk-container-id-13 div.sk-serial {\n",
       "  display: flex;\n",
       "  flex-direction: column;\n",
       "  align-items: center;\n",
       "  background-color: var(--sklearn-color-background);\n",
       "  padding-right: 1em;\n",
       "  padding-left: 1em;\n",
       "}\n",
       "\n",
       "\n",
       "/* Toggleable style: style used for estimator/Pipeline/ColumnTransformer box that is\n",
       "clickable and can be expanded/collapsed.\n",
       "- Pipeline and ColumnTransformer use this feature and define the default style\n",
       "- Estimators will overwrite some part of the style using the `sk-estimator` class\n",
       "*/\n",
       "\n",
       "/* Pipeline and ColumnTransformer style (default) */\n",
       "\n",
       "#sk-container-id-13 div.sk-toggleable {\n",
       "  /* Default theme specific background. It is overwritten whether we have a\n",
       "  specific estimator or a Pipeline/ColumnTransformer */\n",
       "  background-color: var(--sklearn-color-background);\n",
       "}\n",
       "\n",
       "/* Toggleable label */\n",
       "#sk-container-id-13 label.sk-toggleable__label {\n",
       "  cursor: pointer;\n",
       "  display: block;\n",
       "  width: 100%;\n",
       "  margin-bottom: 0;\n",
       "  padding: 0.5em;\n",
       "  box-sizing: border-box;\n",
       "  text-align: center;\n",
       "}\n",
       "\n",
       "#sk-container-id-13 label.sk-toggleable__label-arrow:before {\n",
       "  /* Arrow on the left of the label */\n",
       "  content: \"▸\";\n",
       "  float: left;\n",
       "  margin-right: 0.25em;\n",
       "  color: var(--sklearn-color-icon);\n",
       "}\n",
       "\n",
       "#sk-container-id-13 label.sk-toggleable__label-arrow:hover:before {\n",
       "  color: var(--sklearn-color-text);\n",
       "}\n",
       "\n",
       "/* Toggleable content - dropdown */\n",
       "\n",
       "#sk-container-id-13 div.sk-toggleable__content {\n",
       "  max-height: 0;\n",
       "  max-width: 0;\n",
       "  overflow: hidden;\n",
       "  text-align: left;\n",
       "  /* unfitted */\n",
       "  background-color: var(--sklearn-color-unfitted-level-0);\n",
       "}\n",
       "\n",
       "#sk-container-id-13 div.sk-toggleable__content.fitted {\n",
       "  /* fitted */\n",
       "  background-color: var(--sklearn-color-fitted-level-0);\n",
       "}\n",
       "\n",
       "#sk-container-id-13 div.sk-toggleable__content pre {\n",
       "  margin: 0.2em;\n",
       "  border-radius: 0.25em;\n",
       "  color: var(--sklearn-color-text);\n",
       "  /* unfitted */\n",
       "  background-color: var(--sklearn-color-unfitted-level-0);\n",
       "}\n",
       "\n",
       "#sk-container-id-13 div.sk-toggleable__content.fitted pre {\n",
       "  /* unfitted */\n",
       "  background-color: var(--sklearn-color-fitted-level-0);\n",
       "}\n",
       "\n",
       "#sk-container-id-13 input.sk-toggleable__control:checked~div.sk-toggleable__content {\n",
       "  /* Expand drop-down */\n",
       "  max-height: 200px;\n",
       "  max-width: 100%;\n",
       "  overflow: auto;\n",
       "}\n",
       "\n",
       "#sk-container-id-13 input.sk-toggleable__control:checked~label.sk-toggleable__label-arrow:before {\n",
       "  content: \"▾\";\n",
       "}\n",
       "\n",
       "/* Pipeline/ColumnTransformer-specific style */\n",
       "\n",
       "#sk-container-id-13 div.sk-label input.sk-toggleable__control:checked~label.sk-toggleable__label {\n",
       "  color: var(--sklearn-color-text);\n",
       "  background-color: var(--sklearn-color-unfitted-level-2);\n",
       "}\n",
       "\n",
       "#sk-container-id-13 div.sk-label.fitted input.sk-toggleable__control:checked~label.sk-toggleable__label {\n",
       "  background-color: var(--sklearn-color-fitted-level-2);\n",
       "}\n",
       "\n",
       "/* Estimator-specific style */\n",
       "\n",
       "/* Colorize estimator box */\n",
       "#sk-container-id-13 div.sk-estimator input.sk-toggleable__control:checked~label.sk-toggleable__label {\n",
       "  /* unfitted */\n",
       "  background-color: var(--sklearn-color-unfitted-level-2);\n",
       "}\n",
       "\n",
       "#sk-container-id-13 div.sk-estimator.fitted input.sk-toggleable__control:checked~label.sk-toggleable__label {\n",
       "  /* fitted */\n",
       "  background-color: var(--sklearn-color-fitted-level-2);\n",
       "}\n",
       "\n",
       "#sk-container-id-13 div.sk-label label.sk-toggleable__label,\n",
       "#sk-container-id-13 div.sk-label label {\n",
       "  /* The background is the default theme color */\n",
       "  color: var(--sklearn-color-text-on-default-background);\n",
       "}\n",
       "\n",
       "/* On hover, darken the color of the background */\n",
       "#sk-container-id-13 div.sk-label:hover label.sk-toggleable__label {\n",
       "  color: var(--sklearn-color-text);\n",
       "  background-color: var(--sklearn-color-unfitted-level-2);\n",
       "}\n",
       "\n",
       "/* Label box, darken color on hover, fitted */\n",
       "#sk-container-id-13 div.sk-label.fitted:hover label.sk-toggleable__label.fitted {\n",
       "  color: var(--sklearn-color-text);\n",
       "  background-color: var(--sklearn-color-fitted-level-2);\n",
       "}\n",
       "\n",
       "/* Estimator label */\n",
       "\n",
       "#sk-container-id-13 div.sk-label label {\n",
       "  font-family: monospace;\n",
       "  font-weight: bold;\n",
       "  display: inline-block;\n",
       "  line-height: 1.2em;\n",
       "}\n",
       "\n",
       "#sk-container-id-13 div.sk-label-container {\n",
       "  text-align: center;\n",
       "}\n",
       "\n",
       "/* Estimator-specific */\n",
       "#sk-container-id-13 div.sk-estimator {\n",
       "  font-family: monospace;\n",
       "  border: 1px dotted var(--sklearn-color-border-box);\n",
       "  border-radius: 0.25em;\n",
       "  box-sizing: border-box;\n",
       "  margin-bottom: 0.5em;\n",
       "  /* unfitted */\n",
       "  background-color: var(--sklearn-color-unfitted-level-0);\n",
       "}\n",
       "\n",
       "#sk-container-id-13 div.sk-estimator.fitted {\n",
       "  /* fitted */\n",
       "  background-color: var(--sklearn-color-fitted-level-0);\n",
       "}\n",
       "\n",
       "/* on hover */\n",
       "#sk-container-id-13 div.sk-estimator:hover {\n",
       "  /* unfitted */\n",
       "  background-color: var(--sklearn-color-unfitted-level-2);\n",
       "}\n",
       "\n",
       "#sk-container-id-13 div.sk-estimator.fitted:hover {\n",
       "  /* fitted */\n",
       "  background-color: var(--sklearn-color-fitted-level-2);\n",
       "}\n",
       "\n",
       "/* Specification for estimator info (e.g. \"i\" and \"?\") */\n",
       "\n",
       "/* Common style for \"i\" and \"?\" */\n",
       "\n",
       ".sk-estimator-doc-link,\n",
       "a:link.sk-estimator-doc-link,\n",
       "a:visited.sk-estimator-doc-link {\n",
       "  float: right;\n",
       "  font-size: smaller;\n",
       "  line-height: 1em;\n",
       "  font-family: monospace;\n",
       "  background-color: var(--sklearn-color-background);\n",
       "  border-radius: 1em;\n",
       "  height: 1em;\n",
       "  width: 1em;\n",
       "  text-decoration: none !important;\n",
       "  margin-left: 1ex;\n",
       "  /* unfitted */\n",
       "  border: var(--sklearn-color-unfitted-level-1) 1pt solid;\n",
       "  color: var(--sklearn-color-unfitted-level-1);\n",
       "}\n",
       "\n",
       ".sk-estimator-doc-link.fitted,\n",
       "a:link.sk-estimator-doc-link.fitted,\n",
       "a:visited.sk-estimator-doc-link.fitted {\n",
       "  /* fitted */\n",
       "  border: var(--sklearn-color-fitted-level-1) 1pt solid;\n",
       "  color: var(--sklearn-color-fitted-level-1);\n",
       "}\n",
       "\n",
       "/* On hover */\n",
       "div.sk-estimator:hover .sk-estimator-doc-link:hover,\n",
       ".sk-estimator-doc-link:hover,\n",
       "div.sk-label-container:hover .sk-estimator-doc-link:hover,\n",
       ".sk-estimator-doc-link:hover {\n",
       "  /* unfitted */\n",
       "  background-color: var(--sklearn-color-unfitted-level-3);\n",
       "  color: var(--sklearn-color-background);\n",
       "  text-decoration: none;\n",
       "}\n",
       "\n",
       "div.sk-estimator.fitted:hover .sk-estimator-doc-link.fitted:hover,\n",
       ".sk-estimator-doc-link.fitted:hover,\n",
       "div.sk-label-container:hover .sk-estimator-doc-link.fitted:hover,\n",
       ".sk-estimator-doc-link.fitted:hover {\n",
       "  /* fitted */\n",
       "  background-color: var(--sklearn-color-fitted-level-3);\n",
       "  color: var(--sklearn-color-background);\n",
       "  text-decoration: none;\n",
       "}\n",
       "\n",
       "/* Span, style for the box shown on hovering the info icon */\n",
       ".sk-estimator-doc-link span {\n",
       "  display: none;\n",
       "  z-index: 9999;\n",
       "  position: relative;\n",
       "  font-weight: normal;\n",
       "  right: .2ex;\n",
       "  padding: .5ex;\n",
       "  margin: .5ex;\n",
       "  width: min-content;\n",
       "  min-width: 20ex;\n",
       "  max-width: 50ex;\n",
       "  color: var(--sklearn-color-text);\n",
       "  box-shadow: 2pt 2pt 4pt #999;\n",
       "  /* unfitted */\n",
       "  background: var(--sklearn-color-unfitted-level-0);\n",
       "  border: .5pt solid var(--sklearn-color-unfitted-level-3);\n",
       "}\n",
       "\n",
       ".sk-estimator-doc-link.fitted span {\n",
       "  /* fitted */\n",
       "  background: var(--sklearn-color-fitted-level-0);\n",
       "  border: var(--sklearn-color-fitted-level-3);\n",
       "}\n",
       "\n",
       ".sk-estimator-doc-link:hover span {\n",
       "  display: block;\n",
       "}\n",
       "\n",
       "/* \"?\"-specific style due to the `<a>` HTML tag */\n",
       "\n",
       "#sk-container-id-13 a.estimator_doc_link {\n",
       "  float: right;\n",
       "  font-size: 1rem;\n",
       "  line-height: 1em;\n",
       "  font-family: monospace;\n",
       "  background-color: var(--sklearn-color-background);\n",
       "  border-radius: 1rem;\n",
       "  height: 1rem;\n",
       "  width: 1rem;\n",
       "  text-decoration: none;\n",
       "  /* unfitted */\n",
       "  color: var(--sklearn-color-unfitted-level-1);\n",
       "  border: var(--sklearn-color-unfitted-level-1) 1pt solid;\n",
       "}\n",
       "\n",
       "#sk-container-id-13 a.estimator_doc_link.fitted {\n",
       "  /* fitted */\n",
       "  border: var(--sklearn-color-fitted-level-1) 1pt solid;\n",
       "  color: var(--sklearn-color-fitted-level-1);\n",
       "}\n",
       "\n",
       "/* On hover */\n",
       "#sk-container-id-13 a.estimator_doc_link:hover {\n",
       "  /* unfitted */\n",
       "  background-color: var(--sklearn-color-unfitted-level-3);\n",
       "  color: var(--sklearn-color-background);\n",
       "  text-decoration: none;\n",
       "}\n",
       "\n",
       "#sk-container-id-13 a.estimator_doc_link.fitted:hover {\n",
       "  /* fitted */\n",
       "  background-color: var(--sklearn-color-fitted-level-3);\n",
       "}\n",
       "</style><div id=\"sk-container-id-13\" class=\"sk-top-container\"><div class=\"sk-text-repr-fallback\"><pre>LinearRegression()</pre><b>In a Jupyter environment, please rerun this cell to show the HTML representation or trust the notebook. <br />On GitHub, the HTML representation is unable to render, please try loading this page with nbviewer.org.</b></div><div class=\"sk-container\" hidden><div class=\"sk-item\"><div class=\"sk-estimator fitted sk-toggleable\"><input class=\"sk-toggleable__control sk-hidden--visually\" id=\"sk-estimator-id-13\" type=\"checkbox\" checked><label for=\"sk-estimator-id-13\" class=\"sk-toggleable__label fitted sk-toggleable__label-arrow fitted\">&nbsp;&nbsp;LinearRegression<a class=\"sk-estimator-doc-link fitted\" rel=\"noreferrer\" target=\"_blank\" href=\"https://scikit-learn.org/1.4/modules/generated/sklearn.linear_model.LinearRegression.html\">?<span>Documentation for LinearRegression</span></a><span class=\"sk-estimator-doc-link fitted\">i<span>Fitted</span></span></label><div class=\"sk-toggleable__content fitted\"><pre>LinearRegression()</pre></div> </div></div></div></div>"
      ],
      "text/plain": [
       "LinearRegression()"
      ]
     },
     "execution_count": 291,
     "metadata": {},
     "output_type": "execute_result"
    }
   ],
   "source": [
    "model1.fit(features1, prices1)\n",
    "model2.fit(features2, prices2)"
   ]
  },
  {
   "cell_type": "code",
   "execution_count": 293,
   "id": "9e5da785-bbf9-46b6-b47a-863e0fa83739",
   "metadata": {},
   "outputs": [
    {
     "name": "stdout",
     "output_type": "stream",
     "text": [
      "Expected Price for New House 1: 355000\n",
      "Expected Price for New House 1: 232354\n"
     ]
    }
   ],
   "source": [
    "new_house1 = newHouse(new_house1)\n",
    "new_house2 = newHouse(new_house2)\n",
    "\n",
    "print(f'Expected Price for New House 1: {int(model1.predict(new_house1)[0])}')\n",
    "print(f'Expected Price for New House 1: {int(model2.predict(new_house2)[0])}')"
   ]
  },
  {
   "cell_type": "markdown",
   "id": "0add186f-573b-41b4-a9aa-373af9c4f0b0",
   "metadata": {
    "jp-MarkdownHeadingCollapsed": true
   },
   "source": [
    "## Test Case 2"
   ]
  },
  {
   "cell_type": "markdown",
   "id": "17950079-bb28-4192-bc74-8f65b0a48188",
   "metadata": {},
   "source": [
    "Question 2: Feature Engineering - Text Data Processing\n",
    "\n",
    "Problem Statement:\n",
    "\n",
    "You have a dataset of product reviews from an e-commerce website. Each review is associated with a rating (1 to 5 stars) and a text description. Your task is to engineer a feature that captures the sentiment of the review based on the text.\n",
    "\n",
    "Input:\n",
    "\n",
    "1. reviews: A list of dictionaries where each dictionary has two keys: text and rating. The text is a string containing the review text, and the rating is an integer between 1 and 5.\n",
    "\n",
    "2. new_review: A string representing the text of a new review.\n",
    "\n",
    "Output:\n",
    "\n",
    "\t•\tAn integer between 1 and 5 representing the predicted sentiment of the new_review."
   ]
  },
  {
   "cell_type": "code",
   "execution_count": 311,
   "id": "142e88d6-40e9-4eb4-9211-92162391ba87",
   "metadata": {
    "jupyter": {
     "source_hidden": true
    }
   },
   "outputs": [],
   "source": [
    "reviews = [\n",
    "    {'text': 'Amazing product, highly recommend!', 'rating': 5},\n",
    "    {'text': 'Not what I expected, very disappointed', 'rating': 1},\n",
    "    {'text': 'Average quality, decent for the price', 'rating': 3},\n",
    "    {'text': 'Excellent product, will buy again!', 'rating': 5},\n",
    "    {'text': 'Terrible quality, broke after one use', 'rating': 1},\n",
    "    {'text': 'Good value for money, satisfied', 'rating': 4},\n",
    "    {'text': 'Mediocre product, nothing special', 'rating': 3},\n",
    "    {'text': 'High quality and great service, very happy', 'rating': 5},\n",
    "    {'text': 'The product was okay, but shipping was slow', 'rating': 3},\n",
    "    {'text': 'Fantastic, exceeded my expectations!', 'rating': 5},\n",
    "    {'text': 'Poor construction, would not recommend', 'rating': 2},\n",
    "    {'text': 'Just what I needed, perfect!', 'rating': 5},\n",
    "    {'text': 'Didn’t work as advertised, very frustrated', 'rating': 1},\n",
    "    {'text': 'Quite good, but has some minor flaws', 'rating': 4},\n",
    "    {'text': 'Awful experience, customer service was no help', 'rating': 1},\n",
    "    {'text': 'Product works well, but a bit overpriced', 'rating': 3},\n",
    "    {'text': 'Exceeded my expectations, very pleased', 'rating': 5},\n",
    "    {'text': 'Not worth the money, cheap materials', 'rating': 2},\n",
    "    {'text': 'Solid product, reliable and durable', 'rating': 4},\n",
    "    {'text': 'Decent product, but nothing to write home about', 'rating': 3},\n",
    "    {'text': 'Absolutely love this product, best purchase ever!', 'rating': 5},\n",
    "    {'text': 'Very poor quality, do not recommend', 'rating': 1},\n",
    "    {'text': 'Good product, arrived on time and works as expected', 'rating': 4},\n",
    "    {'text': 'Just okay, nothing special, but it works', 'rating': 3},\n",
    "    {'text': 'Fantastic quality, worth every penny', 'rating': 5},\n",
    "    {'text': 'Cheaply made, fell apart after a week', 'rating': 1},\n",
    "    {'text': 'Product is fine, but the color was different than expected', 'rating': 3},\n",
    "    {'text': 'Great product, great price, very happy', 'rating': 5},\n",
    "    {'text': 'Disappointing, expected much better', 'rating': 2},\n",
    "    {'text': 'Works as advertised, no complaints', 'rating': 4},\n",
    "    {'text': 'Nothing special, but does the job', 'rating': 3},\n",
    "    {'text': 'Very satisfied, will buy again', 'rating': 5},\n",
    "    {'text': 'Poorly made, doesn’t work as it should', 'rating': 1},\n",
    "    {'text': 'Good product, but a bit expensive', 'rating': 4},\n",
    "    {'text': 'Average quality, not impressed', 'rating': 3},\n",
    "    {'text': 'Top-notch product, highly recommend', 'rating': 5},\n",
    "    {'text': 'Terrible, would not buy again', 'rating': 1},\n",
    "    {'text': 'Pretty good, but has some minor issues', 'rating': 4},\n",
    "    {'text': 'Did not meet my expectations, low quality', 'rating': 2},\n",
    "    {'text': 'Great value, great product, highly satisfied', 'rating': 5},\n",
    "    {'text': 'Decent product, but overpriced', 'rating': 3},\n",
    "    {'text': 'Fantastic, love it!', 'rating': 5},\n",
    "    {'text': 'Terrible, complete waste of money', 'rating': 1},\n",
    "    {'text': 'Good quality, but took a long time to arrive', 'rating': 4},\n",
    "    {'text': 'Not bad, but could be better', 'rating': 3},\n",
    "    {'text': 'Amazing, works perfectly!', 'rating': 5},\n",
    "    {'text': 'Disappointed, broke after a few uses', 'rating': 2},\n",
    "    {'text': 'Quality is okay, but expected more', 'rating': 3},\n",
    "    {'text': 'Love this product, will definitely buy again', 'rating': 5},\n",
    "    {'text': 'Waste of money, very low quality', 'rating': 1},\n",
    "    {'text': 'Satisfied with the purchase, works as described', 'rating': 4},\n",
    "    {'text': 'Nothing impressive, just average', 'rating': 3},\n",
    "    {'text': 'Outstanding product, exceeded my expectations', 'rating': 5},\n",
    "    {'text': 'Not worth the price, very cheap materials', 'rating': 2},\n",
    "    {'text': 'Great product, but the instructions were confusing', 'rating': 4},\n",
    "    {'text': 'Just fine, does the job but nothing more', 'rating': 3},\n",
    "    {'text': 'Absolutely fantastic, highly recommend', 'rating': 5},\n",
    "    {'text': 'Very disappointing, low quality', 'rating': 1},\n",
    "    {'text': 'Good product, but a bit too expensive', 'rating': 4},\n",
    "    {'text': 'Average at best, not very impressed', 'rating': 3},\n",
    "    {'text': 'Highly recommend, excellent product', 'rating': 5},\n",
    "    {'text': 'Would not buy again, very cheaply made', 'rating': 1},\n",
    "    {'text': 'Solid product, works well', 'rating': 4},\n",
    "    {'text': 'Nothing special, just an okay product', 'rating': 3},\n",
    "    {'text': 'Great product, definitely recommend', 'rating': 5},\n",
    "    {'text': 'Terrible experience, will not purchase again', 'rating': 1},\n",
    "    {'text': 'Good value, decent product', 'rating': 4},\n",
    "    {'text': 'Mediocre at best, expected better', 'rating': 2},\n",
    "    {'text': 'Fantastic product, will buy again!', 'rating': 5},\n",
    "    {'text': 'Cheap and flimsy, do not recommend', 'rating': 1},\n",
    "    {'text': 'Great product, but a little pricey', 'rating': 4},\n",
    "    {'text': 'Not bad, but could be improved', 'rating': 3},\n",
    "    {'text': 'Exceptional quality, very satisfied', 'rating': 5},\n",
    "    {'text': 'Low quality, not worth the price', 'rating': 2},\n",
    "    {'text': 'Product is good, but shipping took too long', 'rating': 3},\n",
    "    {'text': 'Highly satisfied, great product', 'rating': 5},\n",
    "    {'text': 'Disappointing quality, not worth the money', 'rating': 2},\n",
    "    {'text': 'Pretty good product, would recommend', 'rating': 4},\n",
    "    {'text': 'Just average, nothing special', 'rating': 3},\n",
    "    {'text': 'Outstanding quality, very happy', 'rating': 5},\n",
    "    {'text': 'Very poor quality, don’t waste your money', 'rating': 1},\n",
    "    {'text': 'Good product, but a bit too expensive for what it is', 'rating': 4},\n",
    "    {'text': 'Average product, expected more', 'rating': 3},\n",
    "    {'text': 'Excellent product, very satisfied', 'rating': 5},\n",
    "    {'text': 'Terrible, fell apart immediately', 'rating': 1},\n",
    "    {'text': 'Solid product, good value', 'rating': 4},\n",
    "    {'text': 'Okay product, but could be improved', 'rating': 3},\n",
    "    {'text': 'Love it, works perfectly', 'rating': 5},\n",
    "    {'text': 'Awful, would not recommend', 'rating': 1}\n",
    "]\n",
    "new_review = 'This product is just okay, nothing special.'"
   ]
  },
  {
   "cell_type": "markdown",
   "id": "2238ac8f-f71c-44e7-8e7f-1cbe101adbf6",
   "metadata": {
    "jp-MarkdownHeadingCollapsed": true
   },
   "source": [
    "## Solution 2"
   ]
  },
  {
   "cell_type": "code",
   "execution_count": 316,
   "id": "8f1ccda6-71f4-4ede-8556-53ebe4c1a234",
   "metadata": {},
   "outputs": [
    {
     "name": "stdout",
     "output_type": "stream",
     "text": [
      "This product was okay, nothing special. Predicted Rating: 3\n",
      "This was a very bad product and I would not recommend it to anyone. Predicted Rating: 1\n",
      "This product is incredible! Predicted Rating: 5\n"
     ]
    }
   ],
   "source": [
    "from sklearn.feature_extraction.text import TfidfVectorizer\n",
    "from sklearn.linear_model import Ridge, LinearRegression, Lasso\n",
    "from sklearn.ensemble import RandomForestClassifier, RandomForestRegressor\n",
    "from sklearn.pipeline import Pipeline\n",
    "from sklearn.model_selection import train_test_split\n",
    "\n",
    "def predict_review_sentiment(reviews, new_review):\n",
    "    \n",
    "    texts = [review['text'] for review in reviews]\n",
    "    ratings = [review['rating'] for review in reviews]\n",
    "    \n",
    "    X_train, y_train = texts, ratings\n",
    "    model = Pipeline([\n",
    "        ('tfidf', TfidfVectorizer()), # Tfidf Vectorizer used, in addition you may use bag of words or word embeddings like Word2Vec or BERT\n",
    "        ('model', RandomForestClassifier()) # You may use a model of your choice, in this case we used a random forest classifier.\n",
    "    ])\n",
    "    model.fit(X_train, y_train)\n",
    "    predicted_rating = model.predict([new_review])[0]\n",
    "    predicted_rating = round(predicted_rating)\n",
    "    predicted_rating = max(1, min(5, predicted_rating))  \n",
    "    return predicted_rating\n",
    "\n",
    "new_review1 = 'This product was okay, nothing special.'\n",
    "new_review2 = 'This was a very bad product and I would not recommend it to anyone.'\n",
    "new_review3 = 'This product is incredible!'\n",
    "\n",
    "predicted_rating1 = predict_review_sentiment(reviews, new_review1)\n",
    "predicted_rating2 = predict_review_sentiment(reviews, new_review2)\n",
    "predicted_rating3 = predict_review_sentiment(reviews, new_review3)\n",
    "\n",
    "print(new_review1, f'Predicted Rating: {predicted_rating1}')\n",
    "print(new_review2, f'Predicted Rating: {predicted_rating2}')\n",
    "print(new_review3, f'Predicted Rating: {predicted_rating3 }')"
   ]
  },
  {
   "cell_type": "markdown",
   "id": "371cc924-3cf8-4f4d-aa44-a307cf680ec1",
   "metadata": {
    "jp-MarkdownHeadingCollapsed": true
   },
   "source": [
    "## Test Case 3"
   ]
  },
  {
   "cell_type": "markdown",
   "id": "18adfb0a-f560-4a4e-9e51-2cc6dcb203e4",
   "metadata": {},
   "source": [
    "Question 3: Data Cleaning - Missing Values Handling\n",
    "\n",
    "Problem Statement:\n",
    "\n",
    "You have a dataset with missing values in several columns. Your task is to clean the data by imputing the missing values based on the median of the respective column. If a column has all missing values, it should be dropped from the dataset.\n",
    "\n",
    "Input:\n",
    "\n",
    "\t•\tdata: A pandas DataFrame where each column represents a feature and each row represents a data point.\n",
    " \n",
    "Output:\n",
    "\n",
    "\t•\tA cleaned pandas DataFrame with missing values imputed or columns dropped if necessary."
   ]
  },
  {
   "cell_type": "code",
   "execution_count": 424,
   "id": "48cfa68d-867a-46d8-b349-042487a4b267",
   "metadata": {},
   "outputs": [],
   "source": [
    "data1 = pd.DataFrame({\n",
    "    'A': [1, 2, np.nan, 4],\n",
    "    'B': [np.nan, np.nan, np.nan, np.nan],\n",
    "    'C': [5, 6, 7, np.nan]\n",
    "})\n",
    "\n",
    "data2 = pd.DataFrame({\n",
    "    'X': [10, 15, np.nan, 20],\n",
    "    'Y': [np.nan, 25, 30, np.nan],\n",
    "    'Z': [np.nan, np.nan, np.nan, np.nan]\n",
    "})"
   ]
  },
  {
   "cell_type": "markdown",
   "id": "01bef8dd-57d5-4663-92bc-3020cc91fb8e",
   "metadata": {
    "jp-MarkdownHeadingCollapsed": true
   },
   "source": [
    "## Solution 3"
   ]
  },
  {
   "cell_type": "code",
   "execution_count": 435,
   "id": "6f83b1eb-bce3-4e20-ba39-024600ea1768",
   "metadata": {},
   "outputs": [
    {
     "name": "stdout",
     "output_type": "stream",
     "text": [
      "     A   B    C\n",
      "0  1.0 NaN  5.0\n",
      "1  2.0 NaN  6.0\n",
      "2  NaN NaN  7.0\n",
      "3  4.0 NaN  NaN\n",
      "      X     Y   Z\n",
      "0  10.0   NaN NaN\n",
      "1  15.0  25.0 NaN\n",
      "2   NaN  30.0 NaN\n",
      "3  20.0   NaN NaN\n",
      "     A    C\n",
      "0  1.0  5.0\n",
      "1  2.0  6.0\n",
      "2  2.0  7.0\n",
      "3  4.0  6.0\n",
      "      A     C\n",
      "0  10.0  27.5\n",
      "1  15.0  25.0\n",
      "2  15.0  30.0\n",
      "3  20.0  27.5\n"
     ]
    }
   ],
   "source": [
    "from sklearn.impute import SimpleImputer\n",
    "from sklearn.pipeline import Pipeline\n",
    "\n",
    "\n",
    "data1 = pd.DataFrame({\n",
    "    'A': [1, 2, np.nan, 4],\n",
    "    'B': [np.nan, np.nan, np.nan, np.nan],\n",
    "    'C': [5, 6, 7, np.nan]\n",
    "})\n",
    "\n",
    "data2 = pd.DataFrame({\n",
    "    'X': [10, 15, np.nan, 20],\n",
    "    'Y': [np.nan, 25, 30, np.nan],\n",
    "    'Z': [np.nan, np.nan, np.nan, np.nan]\n",
    "})\n",
    "\n",
    "print(data1) \n",
    "print(data2)\n",
    "\n",
    "data1 = data1.drop('B', axis=1)\n",
    "data2 = data2.drop('Z', axis=1)\n",
    "\n",
    "cleaning_pipeline = Pipeline(steps=[\n",
    "    ('imputer', SimpleImputer(strategy='median'))\n",
    "])\n",
    "\n",
    "cleaned_data1 = pd.DataFrame(cleaning_pipeline.fit_transform(data1), columns=data1.columns)\n",
    "cleaned_data2 = pd.DataFrame(cleaning_pipeline.fit_transform(data2), columns=data1.columns)\n",
    "\n",
    "print(cleaned_data1)\n",
    "print(cleaned_data2)"
   ]
  },
  {
   "cell_type": "markdown",
   "id": "a89eafaf-e03c-4949-a888-ed7e103f5982",
   "metadata": {
    "jp-MarkdownHeadingCollapsed": true
   },
   "source": [
    "## Test Case 4"
   ]
  },
  {
   "cell_type": "markdown",
   "id": "efafc1d1-718e-4411-bec1-cc0a5b4cc775",
   "metadata": {},
   "source": [
    "Problem Statement:\n",
    "\n",
    "You are provided with a dataset containing daily sales data for a retail store. Your task is to forecast the sales for the next n days based on the given historical data.\n",
    "\n",
    "Input:\n",
    "\n",
    "\t•\tsales: A list of integers where each element represents the sales on a particular day.\n",
    "\n",
    " \n",
    "\t•\tn: An integer representing the number of days to forecast.\n",
    "\n",
    "Output:\n",
    "\n",
    "\t•\tA list of integers representing the forecasted sales for the next n days."
   ]
  },
  {
   "cell_type": "code",
   "execution_count": 909,
   "id": "2ba49b38-aa20-442d-94e7-3be34ff307ff",
   "metadata": {
    "scrolled": true
   },
   "outputs": [
    {
     "data": {
      "text/plain": [
       "array([102.60182359, 104.09046162, 103.05174055, ..., 851.59202955,\n",
       "       879.90383804, 873.90686959])"
      ]
     },
     "execution_count": 909,
     "metadata": {},
     "output_type": "execute_result"
    }
   ],
   "source": [
    "sales1 = [200, 220, 250, 240, 230, 220, 210, 216, 285, 376]\n",
    "n1 = 3\n",
    "\n",
    "sales2 = [300, 320, 310, 330, 340, 350, 360]\n",
    "n2 = 5\n"
   ]
  },
  {
   "cell_type": "markdown",
   "id": "8f0065a6-ae21-456b-b5cf-9212a5487a57",
   "metadata": {
    "jp-MarkdownHeadingCollapsed": true
   },
   "source": [
    "## Solution 4"
   ]
  },
  {
   "cell_type": "code",
   "execution_count": 880,
   "id": "3fb98168-6b21-4549-a9f9-502d92eafa2d",
   "metadata": {},
   "outputs": [],
   "source": [
    "from sklearn.linear_model import LinearRegression\n",
    "\n",
    "\n",
    "def future_predictions(sales, n):\n",
    "    X = np.arange(len(sales)).reshape(-1,1)\n",
    "    y = np.array(sales)\n",
    "    \n",
    "    model = LinearRegression()\n",
    "    model.fit(X, y)\n",
    "    for i in range(n):\n",
    "        print(f'The sales will be {model.predict(np.array(len(sales) + i - 1).reshape(-1, 1)).round(2)} after {i + 1} days')\n",
    "    return"
   ]
  },
  {
   "cell_type": "code",
   "execution_count": 882,
   "id": "07341795-4457-47a9-96ca-fea108806064",
   "metadata": {},
   "outputs": [
    {
     "name": "stdout",
     "output_type": "stream",
     "text": [
      "The sales will be [292.95] after 1 days\n",
      "The sales will be [303.67] after 2 days\n",
      "The sales will be [314.39] after 3 days\n"
     ]
    }
   ],
   "source": [
    "future_predictions(sales1, n1)"
   ]
  },
  {
   "cell_type": "code",
   "execution_count": 884,
   "id": "c08adee8-455f-4e21-8e10-064ada5dea45",
   "metadata": {},
   "outputs": [
    {
     "name": "stdout",
     "output_type": "stream",
     "text": [
      "The sales will be [358.93] after 1 days\n",
      "The sales will be [368.57] after 2 days\n",
      "The sales will be [378.21] after 3 days\n",
      "The sales will be [387.86] after 4 days\n",
      "The sales will be [397.5] after 5 days\n"
     ]
    }
   ],
   "source": [
    "future_predictions(sales2, n2)"
   ]
  },
  {
   "cell_type": "markdown",
   "id": "80fd4015-7a0a-48f9-bf32-ae49edb53250",
   "metadata": {
    "jp-MarkdownHeadingCollapsed": true
   },
   "source": [
    "## Test Case 5"
   ]
  },
  {
   "cell_type": "markdown",
   "id": "e3a3ce8d-bf30-41a0-8821-116d2213b355",
   "metadata": {},
   "source": [
    "Problem Statement:\n",
    "\n",
    "You are provided with a dataset containing daily stock data. Your task is to forecast the stock for the next n days based on the given historical data.\n",
    "\n",
    "Input:\n",
    "\n",
    "•\tgenerate_stock_prices: A function to return a list of integers where each element represents the stock price on a particular day.\n",
    "\n",
    "\n",
    "•\tn: An integer representing the number of days to forecast.\n",
    "Output:\n",
    "\n",
    "•\tA list of integers representing the forecasted stock price for the next n days."
   ]
  },
  {
   "cell_type": "code",
   "execution_count": null,
   "id": "00b6d71d-5b06-4706-ac36-ca3fe7f70a39",
   "metadata": {},
   "outputs": [],
   "source": [
    "def generate_stock_prices(initial_price=100, days=365, mu=0.001, sigma=0.02):\n",
    "    daily_returns = np.random.normal(loc=mu, scale=sigma, size=days)\n",
    "    price_array = initial_price * np.exp(np.cumsum(daily_returns))\n",
    "    return price_array\n",
    "\n",
    "\n",
    "days = 365 * 5\n",
    "initial_price = 100\n",
    "stock_prices = generate_stock_prices(initial_price=initial_price, days=days)\n",
    "stock_prices"
   ]
  },
  {
   "cell_type": "markdown",
   "id": "ee7f1d92-6ba9-4a2f-a8e4-4cfc41405214",
   "metadata": {
    "jp-MarkdownHeadingCollapsed": true
   },
   "source": [
    "## Solution 5"
   ]
  },
  {
   "cell_type": "code",
   "execution_count": 971,
   "id": "7df47b18-4ff3-495f-92e5-33d163041389",
   "metadata": {},
   "outputs": [
    {
     "name": "stderr",
     "output_type": "stream",
     "text": [
      "/opt/anaconda3/lib/python3.12/site-packages/sklearn/neural_network/_multilayer_perceptron.py:546: ConvergenceWarning: lbfgs failed to converge (status=1):\n",
      "STOP: TOTAL NO. of ITERATIONS REACHED LIMIT.\n",
      "\n",
      "Increase the number of iterations (max_iter) or scale the data as shown in:\n",
      "    https://scikit-learn.org/stable/modules/preprocessing.html\n",
      "  self.n_iter_ = _check_optimize_result(\"lbfgs\", opt_res, self.max_iter)\n"
     ]
    },
    {
     "data": {
      "text/plain": [
       "[<matplotlib.lines.Line2D at 0x33cae0e60>]"
      ]
     },
     "execution_count": 971,
     "metadata": {},
     "output_type": "execute_result"
    },
    {
     "data": {
      "image/png": "[encoded data removed]",
      "text/plain": [
       "<Figure size 640x480 with 1 Axes>"
      ]
     },
     "metadata": {},
     "output_type": "display_data"
    }
   ],
   "source": [
    "from sklearn.linear_model import LinearRegression, Ridge, Lasso\n",
    "from sklearn.neural_network import MLPRegressor\n",
    "\n",
    "\n",
    "days = np.array([x for x in range(len(data))]).reshape(-1,1)\n",
    "\n",
    "#model = LinearRegression()\n",
    "#model = Lasso(alpha=10)\n",
    "#model = Ridge(alpha=1)\n",
    "model = MLPRegressor(hidden_layer_sizes=(100,), activation='tanh', solver='lbfgs', max_iter=5000)\n",
    "\n",
    "model.fit(days, data)\n",
    "\n",
    "prediction = model.predict(days)\n",
    "\n",
    "import matplotlib.pyplot as plt\n",
    "plt.style.use('ggplot')\n",
    "plt.scatter(x=days, y=data, color='red')\n",
    "plt.plot(days, prediction)\n",
    "plt.plot(np.array([days[-1] + x for x in range(365)]).reshape(-1,1), model.predict(np.array([days[-1] + x for x in range(365)]).reshape(-1,1)))"
   ]
  },
  {
   "cell_type": "markdown",
   "id": "d15d5877-4960-472a-99c0-acbbb47beb03",
   "metadata": {
    "jp-MarkdownHeadingCollapsed": true
   },
   "source": [
    "## Test Case 6"
   ]
  },
  {
   "cell_type": "markdown",
   "id": "cc275e0e-4ffd-42c3-90e8-01462094c213",
   "metadata": {},
   "source": [
    "Problem Statement:\n",
    "You are given a dataset containing information about sales transactions. The dataset includes the following columns:\n",
    "\n",
    "\t•\tTransactionID: A unique identifier for each transaction.\n",
    "\t•\tCustomerID: The ID of the customer making the transaction.\n",
    "\t•\tTransactionDate: The date of the transaction.\n",
    "\t•\tAmount: The amount of the transaction.\n",
    "\n",
    "Write a Python function that calculates the total amount spent by each customer and returns the top 3 customers who have spent the most. The function should return a list of tuples in the format (CustomerID, TotalAmount)."
   ]
  },
  {
   "cell_type": "code",
   "execution_count": 1027,
   "id": "40295d96-98a6-44f6-a2e3-e532cccb40bb",
   "metadata": {},
   "outputs": [],
   "source": [
    "transactions = pd.DataFrame({\n",
    "    'TransactionID': [1, 2, 3, 4, 5],\n",
    "    'CustomerID': [101, 102, 101, 103, 101],\n",
    "    'TransactionDate': ['2023-01-01', '2023-01-02', '2023-01-03', '2023-01-04', '2023-01-05'],\n",
    "    'Amount': [100, 200, 150, 50, 250]\n",
    "})\n",
    "\n",
    "# Expected output: [(101, 500), (102, 200), (103, 50)]"
   ]
  },
  {
   "cell_type": "markdown",
   "id": "0de95168-ad5f-472b-955f-8b2352d5fc7e",
   "metadata": {
    "jp-MarkdownHeadingCollapsed": true
   },
   "source": [
    "## Solution 6"
   ]
  },
  {
   "cell_type": "code",
   "execution_count": 1060,
   "id": "41d113de-0a51-4a2d-8366-2fccf7a29eb1",
   "metadata": {},
   "outputs": [
    {
     "name": "stdout",
     "output_type": "stream",
     "text": [
      "[(101, array([500])), (102, array([200])), (103, array([50]))]\n"
     ]
    }
   ],
   "source": [
    "def solution(transactions):\n",
    "    top_customers = pd.DataFrame(transactions.groupby('CustomerID')['Amount'].sum().sort_values(ascending=False)).head(3)\n",
    "    return list(zip(top_customers.index, top_customers.values))#\n",
    "\n",
    "print(solution(transactions))"
   ]
  },
  {
   "cell_type": "markdown",
   "id": "fc41211c-a81a-418b-aa2b-a1180319efb8",
   "metadata": {
    "jp-MarkdownHeadingCollapsed": true
   },
   "source": [
    "## Test Case 7"
   ]
  },
  {
   "cell_type": "markdown",
   "id": "82060101-cd49-4a08-bb10-ec126cb9a3f0",
   "metadata": {},
   "source": [
    "Problem Statement:\n",
    "\n",
    "You have built a linear regression model to predict house prices based on various features. After training the model, you want to evaluate its performance. The evaluation metric you’re interested in is the Mean Absolute Error (MAE).\n",
    "\n",
    "Write a Python function that calculates the MAE given the true values and the predicted values."
   ]
  },
  {
   "cell_type": "code",
   "execution_count": 1066,
   "id": "f75a62ea-3ac3-4fc5-92f6-1c7121527bc3",
   "metadata": {},
   "outputs": [],
   "source": [
    "true_values = [200000, 150000, 300000, 250000]\n",
    "predicted_values = [210000, 140000, 310000, 240000]"
   ]
  },
  {
   "cell_type": "markdown",
   "id": "73a2da1a-3b42-4ec4-b3e6-d5fb246a2804",
   "metadata": {
    "jp-MarkdownHeadingCollapsed": true
   },
   "source": [
    "## Solution 7"
   ]
  },
  {
   "cell_type": "code",
   "execution_count": 1096,
   "id": "4c21f5ae-7cca-41ee-813f-72bec651a57f",
   "metadata": {},
   "outputs": [
    {
     "data": {
      "text/plain": [
       "10000.0"
      ]
     },
     "execution_count": 1096,
     "metadata": {},
     "output_type": "execute_result"
    }
   ],
   "source": [
    "# numpy solution :::: calculations can be made in parallel\n",
    "def mean_absolute_error(predicted_values, true_values):\n",
    "    if len(true_values) != len(predicted_values):\n",
    "        return 'Mismatched Input Sizes'\n",
    "\n",
    "    true_values, predicted_values = np.array(true_values), np.array(predicted_values)\n",
    "    return (np.abs(true_values - predicted_values).sum()) / len(true_values)\n",
    "\n",
    "mean_absolute_error(predicted_values, true_values)"
   ]
  },
  {
   "cell_type": "markdown",
   "id": "4292a213-f711-4432-8d33-42963d36c72e",
   "metadata": {
    "jp-MarkdownHeadingCollapsed": true
   },
   "source": [
    "## Test Case 8"
   ]
  },
  {
   "cell_type": "markdown",
   "id": "3a05ca8b-34ff-4e7f-93f3-bdb8db33dfea",
   "metadata": {},
   "source": [
    "Problem Statement:\n",
    "You are analyzing the performance of two marketing campaigns. You have the following data:\n",
    "\n",
    "\t•\tCampaignA_Conversions: The number of conversions for Campaign A.\n",
    "\t•\tCampaignB_Conversions: The number of conversions for Campaign B.\n",
    "\n",
    "Write a Python function that conducts a hypothesis test to determine if there is a significant difference between the conversion rates of the two campaigns. Use a significance level of 0.05. The function should return True if there is a significant difference and False otherwise.\n"
   ]
  },
  {
   "cell_type": "code",
   "execution_count": 1102,
   "id": "dcfdb847-8e39-4ae3-bd72-f1401ce545d4",
   "metadata": {},
   "outputs": [],
   "source": [
    "campaign_a_conversions = [30, 45, 50, 60, 55]\n",
    "campaign_b_conversions = [35, 40, 55, 50, 60]\n",
    "# Expected output: False"
   ]
  },
  {
   "cell_type": "markdown",
   "id": "03d3ff96-b8ea-4e72-864a-c4d6bff36e6a",
   "metadata": {
    "jp-MarkdownHeadingCollapsed": true
   },
   "source": [
    "## Solution 8"
   ]
  },
  {
   "cell_type": "code",
   "execution_count": 1109,
   "id": "8e71d565-66e0-439f-bad3-32bf688461bc",
   "metadata": {},
   "outputs": [
    {
     "data": {
      "text/plain": [
       "False"
      ]
     },
     "execution_count": 1109,
     "metadata": {},
     "output_type": "execute_result"
    }
   ],
   "source": [
    "import scipy.stats as stats\n",
    "\n",
    "def hypothesis_test(campaign_a_conversions, campaign_b_conversions):\n",
    "    t_stat, p_value = stats.ttest_ind(campaign_a_conversions, campaign_b_conversions)\n",
    "    return p_value < 0.05\n",
    "\n",
    "hypothesis_test(campaign_a_conversions, campaign_b_conversions)"
   ]
  },
  {
   "cell_type": "markdown",
   "id": "4b768f79-ff77-45b9-a79f-2412b7eae9b8",
   "metadata": {
    "jp-MarkdownHeadingCollapsed": true
   },
   "source": [
    "## Test Case 9"
   ]
  },
  {
   "cell_type": "markdown",
   "id": "356582d2-75c1-4ea4-a254-09cdb8ee22bd",
   "metadata": {},
   "source": [
    "Problem Statement:\n",
    "You have a dataset with missing values in multiple columns. Write a Python function that fills missing values in numerical columns with the mean of the column and fills missing values in categorical columns with the most frequent value."
   ]
  },
  {
   "cell_type": "code",
   "execution_count": 1146,
   "id": "ddec1c2a-fafd-440a-bfa9-62845df1f6a6",
   "metadata": {},
   "outputs": [],
   "source": [
    "data = pd.DataFrame({\n",
    "    'A': [1, 2, np.nan, 4, 5],\n",
    "    'B': [np.nan, 2.5, 3.5, np.nan, 5.5],\n",
    "    'C': ['cat', 'dog', np.nan, 'cat', 'dog']\n",
    "})\n",
    "\n",
    "# Expected output:\n",
    "#    A    B    C\n",
    "# 0  1.0  cat  3.833333\n",
    "# 1  2.0  dog  2.5\n",
    "# 2  3.0  cat  3.5\n",
    "# 3  4.0  cat  3.833333\n",
    "# 4  5.0  dog  5.5"
   ]
  },
  {
   "cell_type": "markdown",
   "id": "cd1ee23d-1c3a-4f89-8359-ec748cb615c3",
   "metadata": {
    "jp-MarkdownHeadingCollapsed": true
   },
   "source": [
    "## Solution 9"
   ]
  },
  {
   "cell_type": "code",
   "execution_count": 1149,
   "id": "cdadf05c-2d18-4f6a-a5c0-0610a3977bbc",
   "metadata": {},
   "outputs": [
    {
     "data": {
      "text/html": [
       "<div>\n",
       "<style scoped>\n",
       "    .dataframe tbody tr th:only-of-type {\n",
       "        vertical-align: middle;\n",
       "    }\n",
       "\n",
       "    .dataframe tbody tr th {\n",
       "        vertical-align: top;\n",
       "    }\n",
       "\n",
       "    .dataframe thead th {\n",
       "        text-align: right;\n",
       "    }\n",
       "</style>\n",
       "<table border=\"1\" class=\"dataframe\">\n",
       "  <thead>\n",
       "    <tr style=\"text-align: right;\">\n",
       "      <th></th>\n",
       "      <th>A</th>\n",
       "      <th>B</th>\n",
       "      <th>C</th>\n",
       "    </tr>\n",
       "  </thead>\n",
       "  <tbody>\n",
       "    <tr>\n",
       "      <th>0</th>\n",
       "      <td>1.0</td>\n",
       "      <td>3.833333</td>\n",
       "      <td>cat</td>\n",
       "    </tr>\n",
       "    <tr>\n",
       "      <th>1</th>\n",
       "      <td>2.0</td>\n",
       "      <td>2.5</td>\n",
       "      <td>dog</td>\n",
       "    </tr>\n",
       "    <tr>\n",
       "      <th>2</th>\n",
       "      <td>3.0</td>\n",
       "      <td>3.5</td>\n",
       "      <td>cat</td>\n",
       "    </tr>\n",
       "    <tr>\n",
       "      <th>3</th>\n",
       "      <td>4.0</td>\n",
       "      <td>3.833333</td>\n",
       "      <td>cat</td>\n",
       "    </tr>\n",
       "    <tr>\n",
       "      <th>4</th>\n",
       "      <td>5.0</td>\n",
       "      <td>5.5</td>\n",
       "      <td>dog</td>\n",
       "    </tr>\n",
       "  </tbody>\n",
       "</table>\n",
       "</div>"
      ],
      "text/plain": [
       "     A         B    C\n",
       "0  1.0  3.833333  cat\n",
       "1  2.0       2.5  dog\n",
       "2  3.0       3.5  cat\n",
       "3  4.0  3.833333  cat\n",
       "4  5.0       5.5  dog"
      ]
     },
     "execution_count": 1149,
     "metadata": {},
     "output_type": "execute_result"
    }
   ],
   "source": [
    "from sklearn.pipeline import Pipeline\n",
    "from sklearn.impute import SimpleImputer\n",
    "from sklearn.compose import ColumnTransformer\n",
    "\n",
    "\n",
    "def clean_data(data):\n",
    "    num_cols = data.select_dtypes(include=['int64', 'float64']).columns.tolist()\n",
    "    cat_cols = data.select_dtypes(include=['object']).columns.tolist()\n",
    "    \n",
    "    num_transformer = Pipeline(steps=[\n",
    "        ('impute', SimpleImputer(strategy='mean'))\n",
    "    ])\n",
    "    cat_transformer = Pipeline(steps=[\n",
    "        ('impute', SimpleImputer(strategy='most_frequent'))\n",
    "    ])\n",
    "    \n",
    "    transformer = ColumnTransformer(transformers=[\n",
    "        ('num', num_transformer, num_cols),\n",
    "        ('cat', cat_transformer, cat_cols)\n",
    "    ])\n",
    "    \n",
    "    return pd.DataFrame(transformer.fit_transform(data), columns=data.columns.tolist())\n",
    "\n",
    "clean_data(data)"
   ]
  },
  {
   "cell_type": "code",
   "execution_count": null,
   "id": "c6a7bcbf-b45c-4852-9c9f-f11fdc01d8fb",
   "metadata": {},
   "outputs": [],
   "source": []
  }
 ],
 "metadata": {
  "kernelspec": {
   "display_name": "Python 3 (ipykernel)",
   "language": "python",
   "name": "python3"
  },
  "language_info": {
   "codemirror_mode": {
    "name": "ipython",
    "version": 3
   },
   "file_extension": ".py",
   "mimetype": "text/x-python",
   "name": "python",
   "nbconvert_exporter": "python",
   "pygments_lexer": "ipython3",
   "version": "3.12.4"
  }
 },
 "nbformat": 4,
 "nbformat_minor": 5
}
